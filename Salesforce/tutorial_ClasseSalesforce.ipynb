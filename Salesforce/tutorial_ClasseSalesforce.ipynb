{
 "cells": [
  {
   "cell_type": "markdown",
   "id": "d8748474",
   "metadata": {
    "id": "d8748474"
   },
   "source": [
    "# Import the Class"
   ]
  },
  {
   "cell_type": "code",
   "execution_count": 1,
   "id": "ZMth-njFrWmI",
   "metadata": {
    "executionInfo": {
     "elapsed": 2821,
     "status": "ok",
     "timestamp": 1703774162333,
     "user": {
      "displayName": "Gabriel Lima",
      "userId": "11883395808807655674"
     },
     "user_tz": 180
    },
    "id": "ZMth-njFrWmI"
   },
   "outputs": [],
   "source": [
    "from ClasseSalesforce import SalesForce"
   ]
  },
  {
   "cell_type": "markdown",
   "id": "7387ca95",
   "metadata": {},
   "source": [
    "# Examples"
   ]
  },
  {
   "cell_type": "markdown",
   "id": "7ea6e26a",
   "metadata": {},
   "source": [
    "## get your login Parameters"
   ]
  },
  {
   "cell_type": "code",
   "execution_count": 2,
   "id": "adc79a7e",
   "metadata": {},
   "outputs": [],
   "source": [
    "login_params_sf = {\n",
    "                'securityToken' : 'YOUR_SALESFORCE_SECURITY_TOKEN',\n",
    "                'email' :         'YOUR_SALESFORCE_LOGIN_EMAIL',\n",
    "                'password' :      'YOUR_SALESFORCE_PASSWORD',\n",
    "                'domain.my':      'fluency.my' #YOUR SALESFORCES ACCOUNT DOMAIN\n",
    "}"
   ]
  },
  {
   "cell_type": "markdown",
   "id": "2a9b6405",
   "metadata": {},
   "source": [
    "__[How to get your security_token](https://youtu.be/AwZ5tu6-qd4):__\n",
    "\n",
    "- Log in to your Salesforce account.\n",
    "- Click the profile avatar and choose Settings.\n",
    "- Select My Personal Information → Reset My Security Token.\n",
    "- Check your email for the security token."
   ]
  },
  {
   "cell_type": "markdown",
   "id": "c883ef33",
   "metadata": {},
   "source": [
    "## Instantiate a SalesForce Object"
   ]
  },
  {
   "cell_type": "code",
   "execution_count": 3,
   "id": "20a03bb2",
   "metadata": {},
   "outputs": [],
   "source": [
    "# Creates an sf object:\n",
    "sf = SalesForce(login_params_sf) #Use your own login parameters!"
   ]
  },
  {
   "cell_type": "markdown",
   "id": "5d93f972",
   "metadata": {
    "id": "5d93f972"
   },
   "source": [
    "## get_query()"
   ]
  },
  {
   "cell_type": "markdown",
   "id": "4431a208",
   "metadata": {
    "id": "4431a208"
   },
   "source": [
    "- Uses [SOQL syntax](https://developer.salesforce.com/docs/atlas.en-us.soql_sosl.meta/soql_sosl/sforce_api_calls_soql_sosl_intro.htm)"
   ]
  },
  {
   "cell_type": "markdown",
   "id": "1d1cc3db",
   "metadata": {
    "id": "1d1cc3db"
   },
   "source": [
    "### option 1:"
   ]
  },
  {
   "cell_type": "code",
   "execution_count": 4,
   "id": "da806506",
   "metadata": {
    "ExecuteTime": {
     "end_time": "2023-09-26T14:20:22.506149Z",
     "start_time": "2023-09-26T14:20:22.441233Z"
    },
    "colab": {
     "base_uri": "https://localhost:8080/",
     "height": 314
    },
    "executionInfo": {
     "elapsed": 548,
     "status": "ok",
     "timestamp": 1703775402211,
     "user": {
      "displayName": "Gabriel Lima",
      "userId": "11883395808807655674"
     },
     "user_tz": 180
    },
    "id": "da806506",
    "outputId": "7bef02c1-e881-4492-a268-238881def7e4"
   },
   "outputs": [
    {
     "data": {
      "text/html": [
       "<div>\n",
       "<style scoped>\n",
       "    .dataframe tbody tr th:only-of-type {\n",
       "        vertical-align: middle;\n",
       "    }\n",
       "\n",
       "    .dataframe tbody tr th {\n",
       "        vertical-align: top;\n",
       "    }\n",
       "\n",
       "    .dataframe thead th {\n",
       "        text-align: right;\n",
       "    }\n",
       "</style>\n",
       "<table border=\"1\" class=\"dataframe\">\n",
       "  <thead>\n",
       "    <tr style=\"text-align: right;\">\n",
       "      <th></th>\n",
       "      <th>Id</th>\n",
       "      <th>IsDeleted</th>\n",
       "      <th>MasterRecordId</th>\n",
       "      <th>Name</th>\n",
       "      <th>LastName</th>\n",
       "      <th>FirstName</th>\n",
       "      <th>Salutation</th>\n",
       "      <th>Type</th>\n",
       "      <th>RecordTypeId</th>\n",
       "      <th>ParentId</th>\n",
       "      <th>...</th>\n",
       "      <th>et4ae5__HasOptedOutOfMobile__pc</th>\n",
       "      <th>et4ae5__Mobile_Country_Code__pc</th>\n",
       "      <th>UsuarioMessaging__pc</th>\n",
       "      <th>SessaoMessaging__pc</th>\n",
       "      <th>Gerente__pc</th>\n",
       "      <th>Email__pc</th>\n",
       "      <th>Locale__pc</th>\n",
       "      <th>FullPhone__pc</th>\n",
       "      <th>Journey__pc</th>\n",
       "      <th>DDI__pc</th>\n",
       "    </tr>\n",
       "  </thead>\n",
       "  <tbody>\n",
       "    <tr>\n",
       "      <th>0</th>\n",
       "      <td>0018b000021vhmHAAQ</td>\n",
       "      <td>False</td>\n",
       "      <td>None</td>\n",
       "      <td>Conta de exemplo para direitos</td>\n",
       "      <td>None</td>\n",
       "      <td>None</td>\n",
       "      <td>None</td>\n",
       "      <td>Prospect</td>\n",
       "      <td>0128b000000lAo3AAE</td>\n",
       "      <td>None</td>\n",
       "      <td>...</td>\n",
       "      <td>False</td>\n",
       "      <td>None</td>\n",
       "      <td>None</td>\n",
       "      <td>None</td>\n",
       "      <td>None</td>\n",
       "      <td>None</td>\n",
       "      <td>None</td>\n",
       "      <td>None</td>\n",
       "      <td>None</td>\n",
       "      <td>None</td>\n",
       "    </tr>\n",
       "    <tr>\n",
       "      <th>1</th>\n",
       "      <td>0018b0000284Cr4AAE</td>\n",
       "      <td>False</td>\n",
       "      <td>None</td>\n",
       "      <td>Teste do Henrique Athayde</td>\n",
       "      <td>None</td>\n",
       "      <td>None</td>\n",
       "      <td>None</td>\n",
       "      <td>None</td>\n",
       "      <td>0128b000000lAo3AAE</td>\n",
       "      <td>None</td>\n",
       "      <td>...</td>\n",
       "      <td>False</td>\n",
       "      <td>None</td>\n",
       "      <td>None</td>\n",
       "      <td>None</td>\n",
       "      <td>None</td>\n",
       "      <td>None</td>\n",
       "      <td>None</td>\n",
       "      <td>None</td>\n",
       "      <td>None</td>\n",
       "      <td>None</td>\n",
       "    </tr>\n",
       "    <tr>\n",
       "      <th>2</th>\n",
       "      <td>0018b0000284DFAAA2</td>\n",
       "      <td>False</td>\n",
       "      <td>None</td>\n",
       "      <td>Teste Athayde Segundo</td>\n",
       "      <td>None</td>\n",
       "      <td>None</td>\n",
       "      <td>None</td>\n",
       "      <td>None</td>\n",
       "      <td>0128b000000lAo3AAE</td>\n",
       "      <td>None</td>\n",
       "      <td>...</td>\n",
       "      <td>False</td>\n",
       "      <td>None</td>\n",
       "      <td>None</td>\n",
       "      <td>None</td>\n",
       "      <td>None</td>\n",
       "      <td>None</td>\n",
       "      <td>None</td>\n",
       "      <td>None</td>\n",
       "      <td>None</td>\n",
       "      <td>None</td>\n",
       "    </tr>\n",
       "  </tbody>\n",
       "</table>\n",
       "<p>3 rows × 126 columns</p>\n",
       "</div>"
      ],
      "text/plain": [
       "                   Id  IsDeleted MasterRecordId  \\\n",
       "0  0018b000021vhmHAAQ      False           None   \n",
       "1  0018b0000284Cr4AAE      False           None   \n",
       "2  0018b0000284DFAAA2      False           None   \n",
       "\n",
       "                             Name LastName FirstName Salutation      Type  \\\n",
       "0  Conta de exemplo para direitos     None      None       None  Prospect   \n",
       "1       Teste do Henrique Athayde     None      None       None      None   \n",
       "2           Teste Athayde Segundo     None      None       None      None   \n",
       "\n",
       "         RecordTypeId ParentId  ... et4ae5__HasOptedOutOfMobile__pc  \\\n",
       "0  0128b000000lAo3AAE     None  ...                           False   \n",
       "1  0128b000000lAo3AAE     None  ...                           False   \n",
       "2  0128b000000lAo3AAE     None  ...                           False   \n",
       "\n",
       "  et4ae5__Mobile_Country_Code__pc UsuarioMessaging__pc SessaoMessaging__pc  \\\n",
       "0                            None                 None                None   \n",
       "1                            None                 None                None   \n",
       "2                            None                 None                None   \n",
       "\n",
       "  Gerente__pc Email__pc Locale__pc FullPhone__pc Journey__pc DDI__pc  \n",
       "0        None      None       None          None        None    None  \n",
       "1        None      None       None          None        None    None  \n",
       "2        None      None       None          None        None    None  \n",
       "\n",
       "[3 rows x 126 columns]"
      ]
     },
     "execution_count": 4,
     "metadata": {},
     "output_type": "execute_result"
    }
   ],
   "source": [
    "sf.get_query(\"SELECT FIELDS(ALL) FROM Account LIMIT 3\")"
   ]
  },
  {
   "cell_type": "markdown",
   "id": "1648e0da",
   "metadata": {
    "id": "1648e0da"
   },
   "source": [
    "### option 2:"
   ]
  },
  {
   "cell_type": "code",
   "execution_count": 5,
   "id": "90d69027",
   "metadata": {
    "ExecuteTime": {
     "end_time": "2023-09-26T14:20:22.506149Z",
     "start_time": "2023-09-26T14:20:22.441233Z"
    },
    "id": "90d69027"
   },
   "outputs": [
    {
     "data": {
      "text/html": [
       "<div>\n",
       "<style scoped>\n",
       "    .dataframe tbody tr th:only-of-type {\n",
       "        vertical-align: middle;\n",
       "    }\n",
       "\n",
       "    .dataframe tbody tr th {\n",
       "        vertical-align: top;\n",
       "    }\n",
       "\n",
       "    .dataframe thead th {\n",
       "        text-align: right;\n",
       "    }\n",
       "</style>\n",
       "<table border=\"1\" class=\"dataframe\">\n",
       "  <thead>\n",
       "    <tr style=\"text-align: right;\">\n",
       "      <th></th>\n",
       "      <th>Id</th>\n",
       "    </tr>\n",
       "  </thead>\n",
       "  <tbody>\n",
       "    <tr>\n",
       "      <th>0</th>\n",
       "      <td>0018b00002IcWVuAAN</td>\n",
       "    </tr>\n",
       "    <tr>\n",
       "      <th>1</th>\n",
       "      <td>0018b00002Idm2oAAB</td>\n",
       "    </tr>\n",
       "    <tr>\n",
       "      <th>2</th>\n",
       "      <td>0018b00002IdpykAAB</td>\n",
       "    </tr>\n",
       "  </tbody>\n",
       "</table>\n",
       "</div>"
      ],
      "text/plain": [
       "                   Id\n",
       "0  0018b00002IcWVuAAN\n",
       "1  0018b00002Idm2oAAB\n",
       "2  0018b00002IdpykAAB"
      ]
     },
     "execution_count": 5,
     "metadata": {},
     "output_type": "execute_result"
    }
   ],
   "source": [
    "query = '''\n",
    "SELECT Id\n",
    "FROM Account\n",
    "WHERE Name LIKE 'Ana%'\n",
    "LIMIT 3\n",
    "'''\n",
    "\n",
    "sf.get_query(query)"
   ]
  },
  {
   "cell_type": "markdown",
   "id": "d39bbb51",
   "metadata": {
    "id": "d39bbb51"
   },
   "source": [
    "## get_object_names()"
   ]
  },
  {
   "cell_type": "code",
   "execution_count": 6,
   "id": "c815ab4e",
   "metadata": {
    "ExecuteTime": {
     "end_time": "2023-09-21T12:24:18.624563Z",
     "start_time": "2023-09-21T12:24:06.868096Z"
    },
    "id": "c815ab4e"
   },
   "outputs": [
    {
     "data": {
      "text/html": [
       "<div>\n",
       "<style scoped>\n",
       "    .dataframe tbody tr th:only-of-type {\n",
       "        vertical-align: middle;\n",
       "    }\n",
       "\n",
       "    .dataframe tbody tr th {\n",
       "        vertical-align: top;\n",
       "    }\n",
       "\n",
       "    .dataframe thead th {\n",
       "        text-align: right;\n",
       "    }\n",
       "</style>\n",
       "<table border=\"1\" class=\"dataframe\">\n",
       "  <thead>\n",
       "    <tr style=\"text-align: right;\">\n",
       "      <th></th>\n",
       "      <th>Api</th>\n",
       "      <th>Label</th>\n",
       "    </tr>\n",
       "  </thead>\n",
       "  <tbody>\n",
       "    <tr>\n",
       "      <th>0</th>\n",
       "      <td>et4ae5__Automated_Send__c</td>\n",
       "      <td>Envio acionado</td>\n",
       "    </tr>\n",
       "    <tr>\n",
       "      <th>1</th>\n",
       "      <td>In_App_Checklist_Settings__c</td>\n",
       "      <td>In App Checklist Settings</td>\n",
       "    </tr>\n",
       "    <tr>\n",
       "      <th>2</th>\n",
       "      <td>et4ae5__AggregateLink__c</td>\n",
       "      <td>Detalhe de nível do link agregado</td>\n",
       "    </tr>\n",
       "    <tr>\n",
       "      <th>3</th>\n",
       "      <td>Knowledge__ka</td>\n",
       "      <td>Knowledge</td>\n",
       "    </tr>\n",
       "    <tr>\n",
       "      <th>4</th>\n",
       "      <td>Knowledge__kav</td>\n",
       "      <td>Knowledge</td>\n",
       "    </tr>\n",
       "  </tbody>\n",
       "</table>\n",
       "</div>"
      ],
      "text/plain": [
       "                            Api                              Label\n",
       "0     et4ae5__Automated_Send__c                     Envio acionado\n",
       "1  In_App_Checklist_Settings__c          In App Checklist Settings\n",
       "2      et4ae5__AggregateLink__c  Detalhe de nível do link agregado\n",
       "3                 Knowledge__ka                          Knowledge\n",
       "4                Knowledge__kav                          Knowledge"
      ]
     },
     "execution_count": 6,
     "metadata": {},
     "output_type": "execute_result"
    }
   ],
   "source": [
    "# Returns Api and Label name from all Salesforce Objects in your model\n",
    "sf_obj = sf.get_objects_names()\n",
    "sf_obj.head()"
   ]
  },
  {
   "cell_type": "markdown",
   "id": "aa993ccd",
   "metadata": {
    "ExecuteTime": {
     "end_time": "2023-08-08T12:47:58.086772Z",
     "start_time": "2023-08-08T12:47:58.070842Z"
    },
    "id": "aa993ccd"
   },
   "source": [
    "## get_table()"
   ]
  },
  {
   "cell_type": "code",
   "execution_count": 7,
   "id": "f54237ef",
   "metadata": {
    "ExecuteTime": {
     "end_time": "2023-09-26T14:51:04.027695Z",
     "start_time": "2023-09-26T14:51:03.128453Z"
    },
    "id": "f54237ef"
   },
   "outputs": [
    {
     "data": {
      "application/vnd.jupyter.widget-view+json": {
       "model_id": "",
       "version_major": 2,
       "version_minor": 0
      },
      "text/plain": [
       "  0%|          | 0/3 [00:00<?, ?it/s]"
      ]
     },
     "metadata": {},
     "output_type": "display_data"
    },
    {
     "data": {
      "text/html": [
       "<div>\n",
       "<style scoped>\n",
       "    .dataframe tbody tr th:only-of-type {\n",
       "        vertical-align: middle;\n",
       "    }\n",
       "\n",
       "    .dataframe tbody tr th {\n",
       "        vertical-align: top;\n",
       "    }\n",
       "\n",
       "    .dataframe thead th {\n",
       "        text-align: right;\n",
       "    }\n",
       "</style>\n",
       "<table border=\"1\" class=\"dataframe\">\n",
       "  <thead>\n",
       "    <tr style=\"text-align: right;\">\n",
       "      <th></th>\n",
       "      <th>Id</th>\n",
       "      <th>IsDeleted</th>\n",
       "      <th>MasterRecordId</th>\n",
       "      <th>Name</th>\n",
       "      <th>LastName</th>\n",
       "      <th>FirstName</th>\n",
       "      <th>Salutation</th>\n",
       "      <th>Type</th>\n",
       "      <th>RecordTypeId</th>\n",
       "      <th>ParentId</th>\n",
       "      <th>...</th>\n",
       "      <th>et4ae5__HasOptedOutOfMobile__pc</th>\n",
       "      <th>et4ae5__Mobile_Country_Code__pc</th>\n",
       "      <th>UsuarioMessaging__pc</th>\n",
       "      <th>SessaoMessaging__pc</th>\n",
       "      <th>Gerente__pc</th>\n",
       "      <th>Email__pc</th>\n",
       "      <th>Locale__pc</th>\n",
       "      <th>FullPhone__pc</th>\n",
       "      <th>Journey__pc</th>\n",
       "      <th>DDI__pc</th>\n",
       "    </tr>\n",
       "  </thead>\n",
       "  <tbody>\n",
       "    <tr>\n",
       "      <th>0</th>\n",
       "      <td>0018b000021vhmHAAQ</td>\n",
       "      <td>False</td>\n",
       "      <td>None</td>\n",
       "      <td>Conta de exemplo para direitos</td>\n",
       "      <td>None</td>\n",
       "      <td>None</td>\n",
       "      <td>None</td>\n",
       "      <td>Prospect</td>\n",
       "      <td>0128b000000lAo3AAE</td>\n",
       "      <td>None</td>\n",
       "      <td>...</td>\n",
       "      <td>False</td>\n",
       "      <td>None</td>\n",
       "      <td>None</td>\n",
       "      <td>None</td>\n",
       "      <td>None</td>\n",
       "      <td>None</td>\n",
       "      <td>None</td>\n",
       "      <td>None</td>\n",
       "      <td>None</td>\n",
       "      <td>None</td>\n",
       "    </tr>\n",
       "    <tr>\n",
       "      <th>1</th>\n",
       "      <td>0018b0000284Cr4AAE</td>\n",
       "      <td>False</td>\n",
       "      <td>None</td>\n",
       "      <td>Teste do Henrique Athayde</td>\n",
       "      <td>None</td>\n",
       "      <td>None</td>\n",
       "      <td>None</td>\n",
       "      <td>None</td>\n",
       "      <td>0128b000000lAo3AAE</td>\n",
       "      <td>None</td>\n",
       "      <td>...</td>\n",
       "      <td>False</td>\n",
       "      <td>None</td>\n",
       "      <td>None</td>\n",
       "      <td>None</td>\n",
       "      <td>None</td>\n",
       "      <td>None</td>\n",
       "      <td>None</td>\n",
       "      <td>None</td>\n",
       "      <td>None</td>\n",
       "      <td>None</td>\n",
       "    </tr>\n",
       "    <tr>\n",
       "      <th>2</th>\n",
       "      <td>0018b0000284DFAAA2</td>\n",
       "      <td>False</td>\n",
       "      <td>None</td>\n",
       "      <td>Teste Athayde Segundo</td>\n",
       "      <td>None</td>\n",
       "      <td>None</td>\n",
       "      <td>None</td>\n",
       "      <td>None</td>\n",
       "      <td>0128b000000lAo3AAE</td>\n",
       "      <td>None</td>\n",
       "      <td>...</td>\n",
       "      <td>False</td>\n",
       "      <td>None</td>\n",
       "      <td>None</td>\n",
       "      <td>None</td>\n",
       "      <td>None</td>\n",
       "      <td>None</td>\n",
       "      <td>None</td>\n",
       "      <td>None</td>\n",
       "      <td>None</td>\n",
       "      <td>None</td>\n",
       "    </tr>\n",
       "  </tbody>\n",
       "</table>\n",
       "<p>3 rows × 126 columns</p>\n",
       "</div>"
      ],
      "text/plain": [
       "                   Id  IsDeleted MasterRecordId  \\\n",
       "0  0018b000021vhmHAAQ      False           None   \n",
       "1  0018b0000284Cr4AAE      False           None   \n",
       "2  0018b0000284DFAAA2      False           None   \n",
       "\n",
       "                             Name LastName FirstName Salutation      Type  \\\n",
       "0  Conta de exemplo para direitos     None      None       None  Prospect   \n",
       "1       Teste do Henrique Athayde     None      None       None      None   \n",
       "2           Teste Athayde Segundo     None      None       None      None   \n",
       "\n",
       "         RecordTypeId ParentId  ... et4ae5__HasOptedOutOfMobile__pc  \\\n",
       "0  0128b000000lAo3AAE     None  ...                           False   \n",
       "1  0128b000000lAo3AAE     None  ...                           False   \n",
       "2  0128b000000lAo3AAE     None  ...                           False   \n",
       "\n",
       "  et4ae5__Mobile_Country_Code__pc UsuarioMessaging__pc SessaoMessaging__pc  \\\n",
       "0                            None                 None                None   \n",
       "1                            None                 None                None   \n",
       "2                            None                 None                None   \n",
       "\n",
       "  Gerente__pc Email__pc Locale__pc FullPhone__pc Journey__pc DDI__pc  \n",
       "0        None      None       None          None        None    None  \n",
       "1        None      None       None          None        None    None  \n",
       "2        None      None       None          None        None    None  \n",
       "\n",
       "[3 rows x 126 columns]"
      ]
     },
     "execution_count": 7,
     "metadata": {},
     "output_type": "execute_result"
    }
   ],
   "source": [
    "# Returns a pd.DataFrame with the full object or, according to given parameters.\n",
    "obj_Account = sf.get_table('Account',\n",
    "                       where = None, # adds WHERE string to query e.g.: \"col1 = x\" (no need to use \"WHERE col1 = x\")\n",
    "                       limit = 3, # defines a LIMIT = x parameter (pass the value only)\n",
    "                       label = True, # Returns the Api Name or Label Name on the columns\n",
    "                       bar = True # Turns on or off the tqdm (loading bar) while loading the dataframe\n",
    "                      )\n",
    "obj_Account"
   ]
  },
  {
   "cell_type": "markdown",
   "id": "7db1b8f6",
   "metadata": {
    "id": "7db1b8f6"
   },
   "source": [
    "## get_label()"
   ]
  },
  {
   "cell_type": "code",
   "execution_count": 8,
   "id": "3d2cac93",
   "metadata": {
    "ExecuteTime": {
     "end_time": "2023-09-26T14:55:15.744814Z",
     "start_time": "2023-09-26T14:55:15.527074Z"
    },
    "id": "3d2cac93"
   },
   "outputs": [
    {
     "data": {
      "text/plain": [
       "{'Id': 'ID da conta',\n",
       " 'IsDeleted': 'Excluído',\n",
       " 'MasterRecordId': 'Conta',\n",
       " 'Name': 'Nome da conta',\n",
       " 'Type': 'Tipo',\n",
       " 'RecordTypeId': 'Tipo de registro da conta',\n",
       " 'ParentId': 'Conta pai',\n",
       " 'BillingAddress': 'Endereço de cobrança',\n",
       " 'ShippingAddress': 'Endereço de entrega',\n",
       " 'Phone': 'Telefone',\n",
       " 'Website': 'Site da Web',\n",
       " 'PhotoUrl': 'URL da foto',\n",
       " 'Industry': 'Setor',\n",
       " 'NumberOfEmployees': 'Funcionários',\n",
       " 'Description': 'Descrição',\n",
       " 'CurrencyIsoCode': 'Moeda da conta',\n",
       " 'OwnerId': 'Proprietário da conta',\n",
       " 'CreatedDate': 'Data de criação',\n",
       " 'CreatedById': 'Criado por',\n",
       " 'LastModifiedDate': 'Data da última modificação',\n",
       " 'LastModifiedById': 'Modificado pela última vez por',\n",
       " 'SystemModstamp': 'Modstamp do sistema',\n",
       " 'LastActivityDate': 'Última atividade',\n",
       " 'LastViewedDate': 'Data da última visualização',\n",
       " 'LastReferencedDate': 'Última data citada',\n",
       " 'UserRecordAccessId': 'Nível de acesso do objeto',\n",
       " 'IsPartner': 'Conta do parceiro',\n",
       " 'IsCustomerPortal': 'Conta do portal de clientes',\n",
       " 'PersonContactId': 'Conta pessoal',\n",
       " 'IsPersonAccount': 'Conta pessoal2',\n",
       " 'ChannelProgramName': 'Nome do Programa do canal',\n",
       " 'ChannelProgramLevelName': 'Nome do Nível do programa do canal',\n",
       " 'PersonMailingAddress': 'Endereço de correspondência',\n",
       " 'PersonMobilePhone': 'Celular',\n",
       " 'PersonEmail': 'Email',\n",
       " 'PersonTitle': 'Cargo',\n",
       " 'PersonDepartment': 'Departamento',\n",
       " 'PersonLastCURequestDate': 'Data da última solicitação do Stay-in-Touch',\n",
       " 'PersonLastCUUpdateDate': 'Data do último salvamento do Stay-in-Touch',\n",
       " 'PersonEmailBouncedReason': 'Motivo da devolução do email',\n",
       " 'PersonEmailBouncedDate': 'Data da devolução do email',\n",
       " 'Jigsaw': 'Chave Data.com',\n",
       " 'JigsawCompanyId': 'ID da empresa do Jigsaw',\n",
       " 'AccountSource': 'Origem da conta',\n",
       " 'SicDesc': 'Descrição SIC',\n",
       " 'StatusAluno__c': 'Status do aluno',\n",
       " 'IdiomasInteresse__c': 'Idiomas de interesse',\n",
       " 'CampanhasRespondidas__c': 'Campanhas respondidas',\n",
       " 'Journey__c': 'Jornada',\n",
       " 'OmnichatCustomerId__c': 'Id do Cliente Omnichat',\n",
       " 'BillingCountryIsoCode__c': 'Código ISO do país de cobrança',\n",
       " 'BillingDistrict__c': 'Bairro de cobrança',\n",
       " 'BillingNumber__c': 'Número de cobrança',\n",
       " 'CampanhaRespondida__c': 'Campanha respondida',\n",
       " 'ChaveFluencySalesforce__c': 'Chave Fluency (Salesforce)',\n",
       " 'ChaveHotmart__c': 'Chave Hotmart',\n",
       " 'Documento__c': 'Documento',\n",
       " 'Email__c': 'Email2',\n",
       " 'NomeCompleto__c': 'Nome completo',\n",
       " 'ResponseBodyHotmart__c': 'ResponseBody (Hotmart)',\n",
       " 'ShippingCountryIsoCode__c': 'Código ISO do país de entrega',\n",
       " 'ShippingDistrict__c': 'Bairro de entrega',\n",
       " 'ShippingNumber__c': 'Número de entrega',\n",
       " 'StatusConta__c': 'Status da conta',\n",
       " 'StatusIntegracaoHotmart__c': 'Status da integração (Hotmart)',\n",
       " 'TelefoneCheckout__c': 'Telefone de checkout',\n",
       " 'Telefone__c': 'Telefone2',\n",
       " 'TipoDocumento__c': 'Tipo de documento',\n",
       " 'CSResponsavel__c': 'CS responsável',\n",
       " 'VendedorResponsavel__c': 'Vendedor responsável',\n",
       " 'Cross_Purchase_Intent_Account__c': 'Intenção Compra Cross',\n",
       " 'Link_user_kajabi__c': 'Link Usuário no Kajabi',\n",
       " 'OpenOpportunities__c': 'Oportunidades Abertas',\n",
       " 'OpportunityQuantity__c': 'Quantidade de Oportunidades',\n",
       " 'FullPhone__c': 'Full Phone',\n",
       " 'Cross_Purchase_Intent__c': 'Intenção Compra Cross2',\n",
       " 'FluencyID__c': 'ID Fluency',\n",
       " 'BirthDate__c': 'Data de Nascimento',\n",
       " 'Gender__c': 'Gênero',\n",
       " 'Instagram__c': 'Instagram',\n",
       " 'Facebook__c': 'Facebook',\n",
       " 'Twitter__c': 'Twitter',\n",
       " 'NativeLanguage__c': 'Língua Nativa',\n",
       " 'Avatar__c': 'Avatar',\n",
       " 'Ops_Accounts__c': '[Ops] # Accounts With CS Owner',\n",
       " 'NumberOfActiveContracts__c': 'Quantidade de Contratos Ativos',\n",
       " 'Activity__c': 'Atividade',\n",
       " 'NumberOfEmployees__c': 'Número de Colaboradores',\n",
       " 'OperatingCountries__c': 'Países em Operação',\n",
       " 'TradeName__c': 'Nome Fantasia',\n",
       " 'et4ae5__HasOptedOutOfMobile__pc': 'Opt-out móvel',\n",
       " 'et4ae5__Mobile_Country_Code__pc': 'Código do país do telefone celular',\n",
       " 'UsuarioMessaging__pc': 'Usuário do Messaging',\n",
       " 'SessaoMessaging__pc': 'Sessão do Messaging',\n",
       " 'Gerente__pc': 'Gerente',\n",
       " 'Email__pc': 'Email3',\n",
       " 'Locale__pc': 'Locale',\n",
       " 'FullPhone__pc': 'FullPhone',\n",
       " 'Journey__pc': 'Journey',\n",
       " 'DDI__pc': 'DDI'}"
      ]
     },
     "execution_count": 8,
     "metadata": {},
     "output_type": "execute_result"
    }
   ],
   "source": [
    "# Returns Api and Label name from all columns of the passed object\n",
    "Account_columns_dict = sf.get_label('Account')\n",
    "Account_columns_dict"
   ]
  }
 ],
 "metadata": {
  "colab": {
   "provenance": []
  },
  "kernelspec": {
   "display_name": "Python 3 (ipykernel)",
   "language": "python",
   "name": "python3"
  },
  "language_info": {
   "codemirror_mode": {
    "name": "ipython",
    "version": 3
   },
   "file_extension": ".py",
   "mimetype": "text/x-python",
   "name": "python",
   "nbconvert_exporter": "python",
   "pygments_lexer": "ipython3",
   "version": "3.11.5"
  },
  "toc": {
   "base_numbering": 1,
   "nav_menu": {},
   "number_sections": true,
   "sideBar": true,
   "skip_h1_title": false,
   "title_cell": "Table of Contents",
   "title_sidebar": "Contents",
   "toc_cell": false,
   "toc_position": {
    "height": "calc(100% - 180px)",
    "left": "10px",
    "top": "150px",
    "width": "257.417px"
   },
   "toc_section_display": true,
   "toc_window_display": true
  }
 },
 "nbformat": 4,
 "nbformat_minor": 5
}
