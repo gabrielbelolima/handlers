{
 "cells": [
  {
   "cell_type": "markdown",
   "id": "89aea654-81fe-4122-8c13-3c72f95067f2",
   "metadata": {},
   "source": [
    "# Centralizing Data with Python Classes  \n",
    "\n",
    "This notebook demonstrates how to use Python classes to centralize and manage data efficiently. These tools are useful for:  \n",
    "\n",
    "- **Validating** input tables.  \n",
    "- **Building pipelines** for new data flows.  \n",
    "- **Accessing data** from sources outside official environments (e.g., Data Lakes).  \n",
    "\n",
    "You can adapt these classes—or create your own—to integrate with systems like Data Lakes for ad-hoc analysis.  \n",
    "\n",
    "---\n",
    "\n",
    "## Data Return Formats  \n",
    "✔ **All classes except `MarketingCloud` return Pandas DataFrames.**  \n",
    "✔ **`MarketingCloud.get_data_extension_by_external_key()`** saves a `.parquet` file acording to the `file_path='.\\path'` paramether. Load it with:  \n",
    "```python\n",
    "import pandas as pd  \n",
    "df = pd.read_parquet(\".\\path\\your_path.parquet\")  "
   ]
  },
  {
   "cell_type": "markdown",
   "id": "19095a25-7184-4ed4-8362-74aeb2309eeb",
   "metadata": {},
   "source": [
    "# Imports handlers and requirements"
   ]
  },
  {
   "cell_type": "code",
   "execution_count": null,
   "id": "07ad0327-aa36-47f8-8f7d-31a3ee4a45a8",
   "metadata": {},
   "outputs": [],
   "source": [
    "# Update login_params with credentials before running this.\n",
    "# Manage Classes in Handler.py file\n",
    "from Handlers import *"
   ]
  },
  {
   "cell_type": "markdown",
   "id": "6f332985-bc37-4dda-85ee-6949ccce2162",
   "metadata": {},
   "source": [
    "# Uses classes"
   ]
  },
  {
   "cell_type": "markdown",
   "id": "60cd350c-fc43-40cb-a864-53981d8e8ac5",
   "metadata": {},
   "source": [
    "## Google Sheet"
   ]
  },
  {
   "cell_type": "code",
   "execution_count": 19,
   "id": "6cd7b4d2-3fd1-4135-ac9f-6ad02d66e016",
   "metadata": {},
   "outputs": [
    {
     "data": {
      "text/html": [
       "<div>\n",
       "<style scoped>\n",
       "    .dataframe tbody tr th:only-of-type {\n",
       "        vertical-align: middle;\n",
       "    }\n",
       "\n",
       "    .dataframe tbody tr th {\n",
       "        vertical-align: top;\n",
       "    }\n",
       "\n",
       "    .dataframe thead th {\n",
       "        text-align: right;\n",
       "    }\n",
       "</style>\n",
       "<table border=\"1\" class=\"dataframe\">\n",
       "  <thead>\n",
       "    <tr style=\"text-align: right;\">\n",
       "      <th></th>\n",
       "      <th>make</th>\n",
       "      <th>model</th>\n",
       "      <th>year</th>\n",
       "      <th>price</th>\n",
       "    </tr>\n",
       "  </thead>\n",
       "  <tbody>\n",
       "    <tr>\n",
       "      <th>0</th>\n",
       "      <td>Toyota</td>\n",
       "      <td>Camry</td>\n",
       "      <td>2022</td>\n",
       "      <td>28000</td>\n",
       "    </tr>\n",
       "    <tr>\n",
       "      <th>1</th>\n",
       "      <td>Honda</td>\n",
       "      <td>Civic</td>\n",
       "      <td>2021</td>\n",
       "      <td>22000</td>\n",
       "    </tr>\n",
       "    <tr>\n",
       "      <th>2</th>\n",
       "      <td>Ford</td>\n",
       "      <td>F-150</td>\n",
       "      <td>2023</td>\n",
       "      <td>35000</td>\n",
       "    </tr>\n",
       "  </tbody>\n",
       "</table>\n",
       "</div>"
      ],
      "text/plain": [
       "     make  model  year  price\n",
       "0  Toyota  Camry  2022  28000\n",
       "1   Honda  Civic  2021  22000\n",
       "2    Ford  F-150  2023  35000"
      ]
     },
     "execution_count": 19,
     "metadata": {},
     "output_type": "execute_result"
    }
   ],
   "source": [
    "gsheet_id='xxx' #or file link. Make sure you have shared the file/folder with your client_email (from google credentials json)\n",
    "gs = GSheet(\n",
    "        gsheet_id = gsheet_id, # for multiple files, instancietes different objects (gs1, gs2, ...)\n",
    "        credentials= 'credentials.json' #https://developers.google.com/workspace/guides/create-credentials\n",
    ")\n",
    "\n",
    "# E.g. data:\n",
    "cars_df = pd.DataFrame({\n",
    "    'make': ['Toyota', 'Honda', 'Ford', 'Tesla', 'BMW', 'Audi', 'Mercedes', 'Nissan', 'Chevrolet', 'Hyundai'],\n",
    "    'model': ['Camry', 'Civic', 'F-150', 'Model 3', 'X5', 'A4', 'C-Class', 'Altima', 'Silverado', 'Tucson'],\n",
    "    'year': [2022, 2021, 2023, 2023, 2022, 2021, 2023, 2022, 2023, 2021],\n",
    "    'price': [28000, 22000, 35000, 48000, 62000, 42000, 45000, 26000, 38000, 27000]\n",
    "})\n",
    "\n",
    "sheet_name='Sheet1' \n",
    "gs.load(data=cars_df, sheet_name=sheet_name) #loads df into gsheet\n",
    "df_teste = gs.get(sheet_name=sheet_name) #reads gsheet data\n",
    "gs.clear(sheet_name=sheet_name) # erases data from gsheet\n",
    "\n",
    "df_teste.head(3)"
   ]
  },
  {
   "cell_type": "markdown",
   "id": "a283809c-ff6a-475b-8116-bb82c3ce43d6",
   "metadata": {},
   "source": [
    "## Hotmart"
   ]
  },
  {
   "cell_type": "code",
   "execution_count": null,
   "id": "654d348a-74e9-4254-b45a-8b76fc93ce56",
   "metadata": {},
   "outputs": [],
   "source": [
    "# Loads Transactions (dt_start >= x <= dt_end)\n",
    "dt_start, dt_end = '2025-02-15 03:00:00', '2025-02-16 03:00:00'\n",
    "formato = '%Y-%m-%d %H:%M:%S' # Format String from pandas\n",
    "\n",
    "hm.get_sales_hm(dt_start, dt_end, formato)"
   ]
  },
  {
   "cell_type": "markdown",
   "id": "01ed16ee-650b-47db-85ec-6df2c2b50779",
   "metadata": {},
   "source": [
    "## Marketing Cloud handler"
   ]
  },
  {
   "cell_type": "code",
   "execution_count": null,
   "id": "ed373f36-4575-4afb-b3d5-5247e3c4d8fa",
   "metadata": {},
   "outputs": [],
   "source": [
    "# https://www.youtube.com/watch?v=qxJolioZr3M\n",
    "mc.get_data_extension_by_external_key(\n",
    "    external_key='xxxx', # External Key from Data Extraction\n",
    "    max_page=5 # If None, returns all rows!\n",
    ")"
   ]
  },
  {
   "cell_type": "markdown",
   "id": "72f712c2-599f-4f18-9d0d-0565c67ce7c1",
   "metadata": {},
   "source": [
    "## Redshift Handler"
   ]
  },
  {
   "cell_type": "code",
   "execution_count": null,
   "id": "08876372-21f9-437d-b02e-092f7fdef468",
   "metadata": {},
   "outputs": [],
   "source": [
    "rs.get_query(\"\"\"\n",
    "SELECT \n",
    "    * \n",
    "FROM \n",
    "    schema.table\n",
    "\"\"\")"
   ]
  },
  {
   "cell_type": "markdown",
   "id": "a72e5c7e-bffe-4801-88f9-4cef835d8d53",
   "metadata": {},
   "source": [
    "## Salesforce Handler"
   ]
  },
  {
   "cell_type": "code",
   "execution_count": null,
   "id": "d5e60153-9054-4998-89b3-38a58313be77",
   "metadata": {},
   "outputs": [],
   "source": [
    "# https://developer.salesforce.com/docs/atlas.en-us.soql_sosl.meta/soql_sosl/sforce_api_calls_soql.htm\n",
    "sf.get_query(\"\"\"\n",
    "    SELECT \n",
    "        FIELDS(ALL) \n",
    "    FROM \n",
    "        Account\n",
    "    LIMIT 1\n",
    "            \"\"\"\n",
    "            )"
   ]
  }
 ],
 "metadata": {
  "kernelspec": {
   "display_name": "Python 3 (ipykernel)",
   "language": "python",
   "name": "python3"
  },
  "language_info": {
   "codemirror_mode": {
    "name": "ipython",
    "version": 3
   },
   "file_extension": ".py",
   "mimetype": "text/x-python",
   "name": "python",
   "nbconvert_exporter": "python",
   "pygments_lexer": "ipython3",
   "version": "3.10.13"
  }
 },
 "nbformat": 4,
 "nbformat_minor": 5
}
